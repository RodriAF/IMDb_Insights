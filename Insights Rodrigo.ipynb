{
 "cells": [
  {
   "cell_type": "code",
   "execution_count": 1,
   "id": "82152e0c",
   "metadata": {},
   "outputs": [
    {
     "name": "stdout",
     "output_type": "stream",
     "text": [
      "importing Jupyter notebook from BubbleChart.ipynb\n"
     ]
    }
   ],
   "source": [
    "import pandas as pd\n",
    "import numpy as np\n",
    "import matplotlib.pyplot as plt\n",
    "import seaborn as sns\n",
    "import import_ipynb\n",
    "import time\n",
    "import BubbleChart"
   ]
  },
  {
   "cell_type": "markdown",
   "id": "40129f42",
   "metadata": {},
   "source": [
    "# Reading the data"
   ]
  },
  {
   "cell_type": "code",
   "execution_count": 2,
   "id": "7f9dc017",
   "metadata": {},
   "outputs": [
    {
     "name": "stdout",
     "output_type": "stream",
     "text": [
      "--- 10.874219179153442 seconds ---\n",
      "3075473\n"
     ]
    }
   ],
   "source": [
    "start_time = time.time()\n",
    "title = pd.read_csv('rodri_title_final_inner.tsv', sep='\\t',low_memory=False)\n",
    "print(\"--- %s seconds ---\" % (time.time() - start_time))\n",
    "print(len(title))\n"
   ]
  },
  {
   "cell_type": "code",
   "execution_count": 3,
   "id": "1db2d0a6",
   "metadata": {},
   "outputs": [
    {
     "name": "stdout",
     "output_type": "stream",
     "text": [
      "3075473\n",
      "3029754\n",
      "3029647\n"
     ]
    }
   ],
   "source": [
    "print(len(title))\n",
    "title = title[(title.genres != \"\\\\N\")]\n",
    "print(len(title))\n",
    "title = title[(title.genres != \"Adult\")]\n",
    "print(len(title))"
   ]
  },
  {
   "cell_type": "markdown",
   "id": "1c9affb5",
   "metadata": {},
   "source": [
    "# Genres Frequencies"
   ]
  },
  {
   "cell_type": "markdown",
   "id": "41980dbf",
   "metadata": {},
   "source": [
    "### Counting all genres (unique and mixed)"
   ]
  },
  {
   "cell_type": "code",
   "execution_count": 27,
   "id": "085ba544",
   "metadata": {},
   "outputs": [
    {
     "data": {
      "image/png": "[encoded data removed]",
      "text/plain": [
       "<Figure size 1008x360 with 1 Axes>"
      ]
     },
     "metadata": {
      "needs_background": "light"
     },
     "output_type": "display_data"
    }
   ],
   "source": [
    "count = pd.DataFrame(title[\"genres\"].value_counts());count\n",
    "\n",
    "height = count[\"genres\"].values\n",
    "bars = count[\"genres\"].keys()\n",
    "y_pos = np.arange(len(count))\n",
    "\n",
    "plt.rcParams['figure.figsize'] = [14, 5]\n",
    "\n",
    "# Create bars\n",
    "plt.bar(y_pos, height)\n",
    "\n",
    "# Create names on the x-axis\n",
    "plt.xticks(y_pos, bars)\n",
    "\n",
    "# Show graphic\n",
    "plt.show()"
   ]
  },
  {
   "cell_type": "markdown",
   "id": "032efaa4",
   "metadata": {},
   "source": [
    "### Making an only genres dataframe to count their frequencies"
   ]
  },
  {
   "cell_type": "code",
   "execution_count": 28,
   "id": "2730242b",
   "metadata": {
    "scrolled": true
   },
   "outputs": [
    {
     "data": {
      "text/html": [
       "<div>\n",
       "<style scoped>\n",
       "    .dataframe tbody tr th:only-of-type {\n",
       "        vertical-align: middle;\n",
       "    }\n",
       "\n",
       "    .dataframe tbody tr th {\n",
       "        vertical-align: top;\n",
       "    }\n",
       "\n",
       "    .dataframe thead th {\n",
       "        text-align: right;\n",
       "    }\n",
       "</style>\n",
       "<table border=\"1\" class=\"dataframe\">\n",
       "  <thead>\n",
       "    <tr style=\"text-align: right;\">\n",
       "      <th></th>\n",
       "      <th>genres</th>\n",
       "    </tr>\n",
       "  </thead>\n",
       "  <tbody>\n",
       "    <tr>\n",
       "      <th>Drama</th>\n",
       "      <td>331981</td>\n",
       "    </tr>\n",
       "    <tr>\n",
       "      <th>Comedy</th>\n",
       "      <td>187182</td>\n",
       "    </tr>\n",
       "    <tr>\n",
       "      <th>Documentary</th>\n",
       "      <td>156901</td>\n",
       "    </tr>\n",
       "    <tr>\n",
       "      <th>Drama,Romance</th>\n",
       "      <td>86870</td>\n",
       "    </tr>\n",
       "    <tr>\n",
       "      <th>Comedy,Drama</th>\n",
       "      <td>78881</td>\n",
       "    </tr>\n",
       "    <tr>\n",
       "      <th>...</th>\n",
       "      <td>...</td>\n",
       "    </tr>\n",
       "    <tr>\n",
       "      <th>Horror,Musical,Romance</th>\n",
       "      <td>1</td>\n",
       "    </tr>\n",
       "    <tr>\n",
       "      <th>Documentary,Romance,Sci-Fi</th>\n",
       "      <td>1</td>\n",
       "    </tr>\n",
       "    <tr>\n",
       "      <th>Action,Reality-TV,War</th>\n",
       "      <td>1</td>\n",
       "    </tr>\n",
       "    <tr>\n",
       "      <th>Adventure,Comedy,News</th>\n",
       "      <td>1</td>\n",
       "    </tr>\n",
       "    <tr>\n",
       "      <th>Comedy,News,Sci-Fi</th>\n",
       "      <td>1</td>\n",
       "    </tr>\n",
       "  </tbody>\n",
       "</table>\n",
       "<p>1898 rows × 1 columns</p>\n",
       "</div>"
      ],
      "text/plain": [
       "                            genres\n",
       "Drama                       331981\n",
       "Comedy                      187182\n",
       "Documentary                 156901\n",
       "Drama,Romance                86870\n",
       "Comedy,Drama                 78881\n",
       "...                            ...\n",
       "Horror,Musical,Romance           1\n",
       "Documentary,Romance,Sci-Fi       1\n",
       "Action,Reality-TV,War            1\n",
       "Adventure,Comedy,News            1\n",
       "Comedy,News,Sci-Fi               1\n",
       "\n",
       "[1898 rows x 1 columns]"
      ]
     },
     "execution_count": 28,
     "metadata": {},
     "output_type": "execute_result"
    }
   ],
   "source": [
    "genres = pd.DataFrame(title[\"genres\"]) # == title.genres\n",
    "count = pd.DataFrame(title[\"genres\"].value_counts());count"
   ]
  },
  {
   "cell_type": "markdown",
   "id": "59e4e7c7",
   "metadata": {},
   "source": [
    "## Counting frequencies from the genres dataframe"
   ]
  },
  {
   "cell_type": "code",
   "execution_count": null,
   "id": "c5c47513",
   "metadata": {},
   "outputs": [],
   "source": [
    "genres_frequency = {}\n",
    "for i in genres.values:\n",
    "    film_genres = i[0].split(\",\")\n",
    "    for item in film_genres:\n",
    "        if item in genres_frequency:\n",
    "            # incrementing the counr\n",
    "            genres_frequency[item] += 1\n",
    "        else:\n",
    "            # initializing the count\n",
    "            genres_frequency[item] = 1"
   ]
  },
  {
   "cell_type": "code",
   "execution_count": 162,
   "id": "d687ade4",
   "metadata": {},
   "outputs": [
    {
     "data": {
      "text/plain": [
       "{'Documentary': 312177,\n",
       " 'Short': 351225,\n",
       " 'Animation': 217634,\n",
       " 'Comedy': 832575,\n",
       " 'Romance': 349092,\n",
       " 'Sport': 46874,\n",
       " 'News': 9868,\n",
       " 'Drama': 1338571,\n",
       " 'Fantasy': 144364,\n",
       " 'Horror': 224381,\n",
       " 'Biography': 100616,\n",
       " 'Music': 84670,\n",
       " 'War': 71150,\n",
       " 'Crime': 332246,\n",
       " 'Western': 59133,\n",
       " 'Family': 179679,\n",
       " 'Adventure': 318574,\n",
       " 'Action': 408556,\n",
       " 'History': 96947,\n",
       " 'Mystery': 159786,\n",
       " 'Sci-Fi': 116407,\n",
       " 'Musical': 52137,\n",
       " 'Thriller': 271966,\n",
       " 'Film-Noir': 14871,\n",
       " 'Game-Show': 10967,\n",
       " 'Talk-Show': 12104,\n",
       " 'Reality-TV': 32006,\n",
       " 'Adult': 297}"
      ]
     },
     "execution_count": 162,
     "metadata": {},
     "output_type": "execute_result"
    }
   ],
   "source": [
    "genres_frequency"
   ]
  },
  {
   "cell_type": "markdown",
   "id": "9ad6784a",
   "metadata": {},
   "source": [
    "## Counting frequencies from the titles dataframe"
   ]
  },
  {
   "cell_type": "code",
   "execution_count": 4,
   "id": "6ca58535",
   "metadata": {},
   "outputs": [],
   "source": [
    "genres_frequency = {}\n",
    "for i in title.genres.values:\n",
    "    film_genres = i.split(\",\")\n",
    "    for item in film_genres:\n",
    "        if item in genres_frequency:\n",
    "            # incrementing the counr\n",
    "            genres_frequency[item] += 1\n",
    "        else:\n",
    "            # initializing the count\n",
    "            genres_frequency[item] = 1"
   ]
  },
  {
   "cell_type": "code",
   "execution_count": 5,
   "id": "2b4e231a",
   "metadata": {},
   "outputs": [
    {
     "data": {
      "text/plain": [
       "{'Documentary': 312177,\n",
       " 'Short': 351225,\n",
       " 'Animation': 217634,\n",
       " 'Comedy': 832575,\n",
       " 'Romance': 349092,\n",
       " 'Sport': 46874,\n",
       " 'News': 9868,\n",
       " 'Drama': 1338571,\n",
       " 'Fantasy': 144364,\n",
       " 'Horror': 224381,\n",
       " 'Biography': 100616,\n",
       " 'Music': 84670,\n",
       " 'War': 71150,\n",
       " 'Crime': 332246,\n",
       " 'Western': 59133,\n",
       " 'Family': 179679,\n",
       " 'Adventure': 318574,\n",
       " 'Action': 408556,\n",
       " 'History': 96947,\n",
       " 'Mystery': 159786,\n",
       " 'Sci-Fi': 116407,\n",
       " 'Musical': 52137,\n",
       " 'Thriller': 271966,\n",
       " 'Film-Noir': 14871,\n",
       " 'Game-Show': 10967,\n",
       " 'Talk-Show': 12104,\n",
       " 'Reality-TV': 32006,\n",
       " 'Adult': 297}"
      ]
     },
     "execution_count": 5,
     "metadata": {},
     "output_type": "execute_result"
    }
   ],
   "source": [
    "genres_frequency"
   ]
  },
  {
   "cell_type": "code",
   "execution_count": 280,
   "id": "09d95be8",
   "metadata": {},
   "outputs": [
    {
     "ename": "AttributeError",
     "evalue": "'dict' object has no attribute 'to_csv'",
     "output_type": "error",
     "traceback": [
      "\u001b[0;31m---------------------------------------------------------------------------\u001b[0m",
      "\u001b[0;31mAttributeError\u001b[0m                            Traceback (most recent call last)",
      "\u001b[0;32m/var/folders/bk/y0g661w92fl2j_dxj20n5bch0000gn/T/ipykernel_9582/2257560434.py\u001b[0m in \u001b[0;36m<module>\u001b[0;34m\u001b[0m\n\u001b[0;32m----> 1\u001b[0;31m \u001b[0mgenres_frequency\u001b[0m\u001b[0;34m.\u001b[0m\u001b[0mto_csv\u001b[0m\u001b[0;34m(\u001b[0m\u001b[0;34m'genres_frequency.csv'\u001b[0m\u001b[0;34m,\u001b[0m\u001b[0msep\u001b[0m\u001b[0;34m=\u001b[0m\u001b[0;34m\",\"\u001b[0m\u001b[0;34m)\u001b[0m\u001b[0;34m\u001b[0m\u001b[0;34m\u001b[0m\u001b[0m\n\u001b[0m",
      "\u001b[0;31mAttributeError\u001b[0m: 'dict' object has no attribute 'to_csv'"
     ]
    }
   ],
   "source": [
    "genres_frequency.to_csv('genres_frequency.csv',sep=\",\")"
   ]
  },
  {
   "cell_type": "code",
   "execution_count": 290,
   "id": "7388eb77",
   "metadata": {},
   "outputs": [
    {
     "name": "stderr",
     "output_type": "stream",
     "text": [
      "/var/folders/bk/y0g661w92fl2j_dxj20n5bch0000gn/T/ipykernel_9582/2008886426.py:1: DeprecationWarning: The default dtype for empty Series will be 'object' instead of 'float64' in a future version. Specify a dtype explicitly to silence this warning.\n",
      "  genres_frequency_Series = pd.Series()\n"
     ]
    },
    {
     "data": {
      "text/plain": [
       "data      [312177, 351225, 217634, 832575, 349092, 46874...\n",
       "labels    [Documentary, Short, Animation, Comedy, Romanc...\n",
       "dtype: object"
      ]
     },
     "execution_count": 290,
     "metadata": {},
     "output_type": "execute_result"
    }
   ],
   "source": [
    "genres_frequency_Series = pd.Series()\n",
    "genres_frequency_Series[\"data\"] = list(genres_frequency.values())\n",
    "genres_frequency_Series[\"labels\"] = list(genres_frequency.keys())\n",
    "genres_frequency_Series.to_csv('genres_frequency_Series.csv',sep=\",\")\n",
    "genres_frequency_Series"
   ]
  },
  {
   "cell_type": "markdown",
   "id": "2581c2cc",
   "metadata": {},
   "source": [
    "## Ploting genres Frequency data"
   ]
  },
  {
   "cell_type": "markdown",
   "id": "092e1137",
   "metadata": {},
   "source": [
    "### As bar plot"
   ]
  },
  {
   "cell_type": "code",
   "execution_count": 35,
   "id": "32e60909",
   "metadata": {},
   "outputs": [
    {
     "data": {
      "image/png": "[encoded data removed]",
      "text/plain": [
       "<Figure size 2160x1080 with 1 Axes>"
      ]
     },
     "metadata": {
      "needs_background": "light"
     },
     "output_type": "display_data"
    }
   ],
   "source": [
    "height = list(genres_frequency.values())\n",
    "bars = list(genres_frequency.keys())\n",
    "y_pos = np.arange(len(genres_frequency))\n",
    "\n",
    "plt.rcParams['figure.figsize'] = [30, 15]\n",
    "\n",
    "# Create bars\n",
    "plt.bar(y_pos, height)\n",
    "\n",
    "# Create names on the x-axis\n",
    "plt.xticks(y_pos, bars)\n",
    "\n",
    "# Show graphic\n",
    "plt.show()"
   ]
  },
  {
   "cell_type": "markdown",
   "id": "3a3dae6f",
   "metadata": {},
   "source": [
    "### As packed bubble chart"
   ]
  },
  {
   "cell_type": "code",
   "execution_count": 6,
   "id": "608159b2",
   "metadata": {},
   "outputs": [],
   "source": [
    "data = {\n",
    "    'bigrams': list(genres_frequency.keys()),\n",
    "\n",
    "    'frequency': list(genres_frequency.values()),\n",
    "\n",
    "    'color': ['#5A69AF', '#579E65', '#F9C784', '#FC944A',\n",
    "              '#F24C00', '#00B825', '#FC944A', '#EF4026',\n",
    "              'goldenrod','green', '#F9C784', '#FC944A',\n",
    "              'coral','#5A69AF', '#579E65', '#F9C784', '#FC944A',\n",
    "              '#F24C00', '#00B825', '#FC944A', '#EF4026',\n",
    "              'goldenrod','green', '#F9C784', '#FC944A',\n",
    "              'coral', '#579E65', '#F9C784', '#FC944A',\n",
    "              '#F24C00', '#00B825']\n",
    "}"
   ]
  },
  {
   "cell_type": "code",
   "execution_count": 7,
   "id": "9181e336",
   "metadata": {},
   "outputs": [],
   "source": [
    "class BubbleChart:\n",
    "    import numpy as np\n",
    "    def __init__(self, area, bubble_spacing=0):\n",
    "        \"\"\"\n",
    "        Setup for bubble collapse.\n",
    "\n",
    "        Parameters\n",
    "        ----------\n",
    "        area : array-like\n",
    "            Area of the bubbles.\n",
    "        bubble_spacing : float, default: 0\n",
    "            Minimal spacing between bubbles after collapsing.\n",
    "\n",
    "        Notes\n",
    "        -----\n",
    "        If \"area\" is sorted, the results might look weird.\n",
    "        \"\"\"\n",
    "        area = np.asarray(area)\n",
    "        r = np.sqrt(area / np.pi)\n",
    "\n",
    "        self.bubble_spacing = bubble_spacing\n",
    "        self.bubbles = np.ones((len(area), 4))\n",
    "        self.bubbles[:, 2] = r\n",
    "        self.bubbles[:, 3] = area\n",
    "        self.maxstep = 2 * self.bubbles[:, 2].max() + self.bubble_spacing\n",
    "        self.step_dist = self.maxstep / 2\n",
    "\n",
    "        # calculate initial grid layout for bubbles\n",
    "        length = np.ceil(np.sqrt(len(self.bubbles)))\n",
    "        grid = np.arange(length) * self.maxstep\n",
    "        gx, gy = np.meshgrid(grid, grid)\n",
    "        self.bubbles[:, 0] = gx.flatten()[:len(self.bubbles)]\n",
    "        self.bubbles[:, 1] = gy.flatten()[:len(self.bubbles)]\n",
    "\n",
    "        self.com = self.center_of_mass()\n",
    "\n",
    "    def center_of_mass(self):\n",
    "        return np.average(\n",
    "            self.bubbles[:, :2], axis=0, weights=self.bubbles[:, 3]\n",
    "        )\n",
    "\n",
    "    def center_distance(self, bubble, bubbles):\n",
    "        return np.hypot(bubble[0] - bubbles[:, 0],\n",
    "                        bubble[1] - bubbles[:, 1])\n",
    "\n",
    "    def outline_distance(self, bubble, bubbles):\n",
    "        center_distance = self.center_distance(bubble, bubbles)\n",
    "        return center_distance - bubble[2] - \\\n",
    "            bubbles[:, 2] - self.bubble_spacing\n",
    "\n",
    "    def check_collisions(self, bubble, bubbles):\n",
    "        distance = self.outline_distance(bubble, bubbles)\n",
    "        return len(distance[distance < 0])\n",
    "\n",
    "    def collides_with(self, bubble, bubbles):\n",
    "        distance = self.outline_distance(bubble, bubbles)\n",
    "        idx_min = np.argmin(distance)\n",
    "        return idx_min if type(idx_min) == np.ndarray else [idx_min]\n",
    "\n",
    "    def collapse(self, n_iterations=50):\n",
    "        \"\"\"\n",
    "        Move bubbles to the center of mass.\n",
    "\n",
    "        Parameters\n",
    "        ----------\n",
    "        n_iterations : int, default: 50\n",
    "            Number of moves to perform.\n",
    "        \"\"\"\n",
    "        for _i in range(n_iterations):\n",
    "            moves = 0\n",
    "            for i in range(len(self.bubbles)):\n",
    "                rest_bub = np.delete(self.bubbles, i, 0)\n",
    "                # try to move directly towards the center of mass\n",
    "                # direction vector from bubble to the center of mass\n",
    "                dir_vec = self.com - self.bubbles[i, :2]\n",
    "\n",
    "                # shorten direction vector to have length of 1\n",
    "                dir_vec = dir_vec / np.sqrt(dir_vec.dot(dir_vec))\n",
    "\n",
    "                # calculate new bubble position\n",
    "                new_point = self.bubbles[i, :2] + dir_vec * self.step_dist\n",
    "                new_bubble = np.append(new_point, self.bubbles[i, 2:4])\n",
    "\n",
    "                # check whether new bubble collides with other bubbles\n",
    "                if not self.check_collisions(new_bubble, rest_bub):\n",
    "                    self.bubbles[i, :] = new_bubble\n",
    "                    self.com = self.center_of_mass()\n",
    "                    moves += 1\n",
    "                else:\n",
    "                    # try to move around a bubble that you collide with\n",
    "                    # find colliding bubble\n",
    "                    for colliding in self.collides_with(new_bubble, rest_bub):\n",
    "                        # calculate direction vector\n",
    "                        dir_vec = rest_bub[colliding, :2] - self.bubbles[i, :2]\n",
    "                        dir_vec = dir_vec / np.sqrt(dir_vec.dot(dir_vec))\n",
    "                        # calculate orthogonal vector\n",
    "                        orth = np.array([dir_vec[1], -dir_vec[0]])\n",
    "                        # test which direction to go\n",
    "                        new_point1 = (self.bubbles[i, :2] + orth *\n",
    "                                      self.step_dist)\n",
    "                        new_point2 = (self.bubbles[i, :2] - orth *\n",
    "                                      self.step_dist)\n",
    "                        dist1 = self.center_distance(\n",
    "                            self.com, np.array([new_point1]))\n",
    "                        dist2 = self.center_distance(\n",
    "                            self.com, np.array([new_point2]))\n",
    "                        new_point = new_point1 if dist1 < dist2 else new_point2\n",
    "                        new_bubble = np.append(new_point, self.bubbles[i, 2:4])\n",
    "                        if not self.check_collisions(new_bubble, rest_bub):\n",
    "                            self.bubbles[i, :] = new_bubble\n",
    "                            self.com = self.center_of_mass()\n",
    "\n",
    "            if moves / len(self.bubbles) < 0.1:\n",
    "                self.step_dist = self.step_dist / 2\n",
    "\n",
    "    def plot(self, ax, labels, colors):\n",
    "        \"\"\"\n",
    "        Draw the bubble plot.\n",
    "\n",
    "        Parameters\n",
    "        ----------\n",
    "        ax : matplotlib.axes.Axes\n",
    "        labels : list\n",
    "            Labels of the bubbles.\n",
    "        colors : list\n",
    "            Colors of the bubbles.\n",
    "        \"\"\"\n",
    "        for i in range(len(self.bubbles)):\n",
    "            circ = plt.Circle(\n",
    "                self.bubbles[i, :2], self.bubbles[i, 2], color=colors[i])\n",
    "            ax.add_patch(circ)\n",
    "            ax.text(*self.bubbles[i, :2], labels[i],\n",
    "                    horizontalalignment='center', verticalalignment='center')"
   ]
  },
  {
   "cell_type": "code",
   "execution_count": 8,
   "id": "e268bbb5",
   "metadata": {},
   "outputs": [],
   "source": [
    "bubble_chart = BubbleChart(area=data['frequency'],\n",
    "                           bubble_spacing=2)\n",
    "bubble_chart.collapse()\n"
   ]
  },
  {
   "cell_type": "code",
   "execution_count": 9,
   "id": "4f517160",
   "metadata": {},
   "outputs": [
    {
     "data": {
      "image/png": "[encoded data removed]",
      "text/plain": [
       "<Figure size 1080x1080 with 1 Axes>"
      ]
     },
     "metadata": {
      "needs_background": "light"
     },
     "output_type": "display_data"
    }
   ],
   "source": [
    "fig, ax = plt.subplots(subplot_kw=dict(aspect=\"equal\"))\n",
    "fig.set_size_inches(15, 15, forward=True)\n",
    "bubble_chart.plot(\n",
    "    ax, data['bigrams'], data['color'])\n",
    "ax.axis(\"off\")\n",
    "ax.relim()\n",
    "ax.autoscale_view()\n",
    "plt.show()"
   ]
  },
  {
   "cell_type": "markdown",
   "id": "8117f1f9",
   "metadata": {},
   "source": [
    "# Average Genres' ratings"
   ]
  },
  {
   "cell_type": "code",
   "execution_count": 17,
   "id": "1b87ddd2",
   "metadata": {},
   "outputs": [
    {
     "data": {
      "text/plain": [
       "1879"
      ]
     },
     "execution_count": 17,
     "metadata": {},
     "output_type": "execute_result"
    }
   ],
   "source": [
    "title2 = title.reset_index();title2\n",
    "title2.numVotes[1]"
   ]
  },
  {
   "cell_type": "code",
   "execution_count": 18,
   "id": "592533a6",
   "metadata": {},
   "outputs": [
    {
     "name": "stderr",
     "output_type": "stream",
     "text": [
      "/var/folders/bk/y0g661w92fl2j_dxj20n5bch0000gn/T/ipykernel_4381/2657477852.py:1: DeprecationWarning: The default dtype for empty Series will be 'object' instead of 'float64' in a future version. Specify a dtype explicitly to silence this warning.\n",
      "  genres_ratings = pd.Series()\n"
     ]
    },
    {
     "data": {
      "text/plain": [
       "Documentary    [5.7, 5.7, 5.7, 5.7, 5.7, 5.7, 5.7, 5.7, 5.4, ...\n",
       "Short          [5.7, 5.7, 5.7, 5.7, 5.7, 5.7, 5.7, 5.7, 5.9, ...\n",
       "Animation      [5.9, 5.9, 5.9, 5.9, 5.9, 5.9, 5.9, 5.9, 6.5, ...\n",
       "Comedy         [6.5, 6.5, 6.5, 6.5, 6.5, 6.5, 6.5, 6.5, 6.5, ...\n",
       "Romance        [6.5, 6.5, 6.5, 6.5, 6.5, 6.5, 6.5, 6.5, 6.5, ...\n",
       "Sport          [5.4, 5.4, 5.4, 5.4, 5.4, 5.4, 5.4, 5.4, 5.4, ...\n",
       "News           [4.3, 4.3, 4.3, 4.3, 4.3, 4.2, 4.2, 4.7, 4.7, ...\n",
       "Drama          [4.4, 4.4, 4.4, 4.5, 4.5, 4.5, 4.5, 4.4, 4.4, ...\n",
       "Fantasy        [5.6, 5.6, 5.6, 4.5, 4.5, 4.5, 4.4, 4.4, 4.4, ...\n",
       "Horror         [6.3, 6.3, 6.3, 6.3, 6.3, 6.3, 6.3, 6.3, 6.3, ...\n",
       "Biography      [5.1, 5.1, 5.1, 5.1, 5.1, 5.1, 5.1, 5.1, 5.1, ...\n",
       "Music          [4.7, 4.7, 6.8, 6.8, 6.8, 6.8, 6.8, 6.8, 6.8, ...\n",
       "War            [4.9, 4.9, 4.2, 4.2, 4.4, 4.4, 4.6, 4.6, 4.6, ...\n",
       "Crime          [4.6, 4.6, 5.5, 5.5, 5.5, 5.5, 5.5, 5.5, 5.5, ...\n",
       "Western        [4.9, 4.9, 4.9, 6.3, 6.3, 6.6, 6.6, 6.9, 6.9, ...\n",
       "Family         [5.2, 5.2, 5.2, 6.5, 6.5, 6.5, 6.5, 6.5, 6.5, ...\n",
       "Adventure      [6.3, 6.3, 6.3, 6.3, 6.3, 6.3, 6.3, 6.3, 8.2, ...\n",
       "Action         [5.5, 5.5, 5.5, 5.5, 5.5, 5.5, 5.5, 6.2, 6.2, ...\n",
       "History        [5.3, 5.3, 5.3, 5.3, 5.3, 5.1, 5.1, 5.1, 5.1, ...\n",
       "Mystery        [4.8, 4.8, 4.8, 4.8, 6.2, 6.2, 6.2, 6.2, 6.2, ...\n",
       "Sci-Fi         [6.6, 6.6, 6.6, 6.6, 6.6, 6.6, 6.6, 6.6, 6.6, ...\n",
       "Musical        [5.8, 5.8, 5.8, 7.0, 7.0, 7.0, 7.0, 7.0, 7.0, ...\n",
       "Thriller       [6.8, 6.8, 6.8, 6.8, 6.8, 6.3, 6.3, 6.3, 6.3, ...\n",
       "Film-Noir      [7.6, 7.6, 7.6, 7.6, 7.6, 7.6, 7.6, 7.6, 7.6, ...\n",
       "Game-Show      [3.0, 3.0, 5.8, 5.8, 3.8, 3.8, 3.8, 6.0, 6.0, ...\n",
       "Talk-Show      [4.0, 4.0, 7.9, 7.9, 7.9, 7.9, 7.9, 7.9, 7.9, ...\n",
       "Reality-TV     [7.1, 7.1, 7.1, 7.1, 7.1, 7.1, 7.1, 7.1, 5.2, ...\n",
       "Adult          [4.8, 4.8, 4.8, 4.8, 4.8, 4.8, 4.8, 4.8, 4.8, ...\n",
       "dtype: object"
      ]
     },
     "execution_count": 18,
     "metadata": {},
     "output_type": "execute_result"
    }
   ],
   "source": [
    "genres_ratings = pd.Series()\n",
    "for i in np.arange(len(title2)):\n",
    "    film_genres = title2.loc[i].genres.split(\",\")\n",
    "    for item in film_genres:\n",
    "        if item in genres_ratings:\n",
    "            genres_ratings[item].append(title2[\"averageRating\"][i])\n",
    "        elif item not in genres_ratings:\n",
    "            genres_ratings[item] = [title2[\"averageRating\"][i]]\n",
    "        else:\n",
    "            print(\"error\")\n",
    "genres_ratings"
   ]
  },
  {
   "cell_type": "raw",
   "id": "d1b8dc32",
   "metadata": {},
   "source": [
    "genres_ratings_pon = pd.Series()\n",
    "for i in np.arange(len(title2)):\n",
    "    film_genres = title2.loc[i].genres.split(\",\")\n",
    "    for item in film_genres:\n",
    "        if item in genres_ratings_pon:\n",
    "            genres_ratings_pon[item].append(title2[\"averageRating\"][i]*(title2.numVotes[i]/title2.numVotes.max()))\n",
    "        elif item not in genres_ratings_pon:\n",
    "            genres_ratings_pon[item] = [title2[\"averageRating\"][i]*(title2.numVotes[i]/title2.numVotes.max())]\n",
    "        else:\n",
    "            print(\"error\")\n",
    "genres_ratings_pon"
   ]
  },
  {
   "cell_type": "code",
   "execution_count": 245,
   "id": "90dded92",
   "metadata": {},
   "outputs": [],
   "source": [
    "genres_ratings.to_csv(\"genres_ratings.csv\")"
   ]
  },
  {
   "cell_type": "code",
   "execution_count": null,
   "id": "12fdc7d6",
   "metadata": {},
   "outputs": [],
   "source": [
    "genres_ratings_pon.to_csv(\"genres_ratings_pon.csv\")"
   ]
  },
  {
   "cell_type": "code",
   "execution_count": 301,
   "id": "fa6e2536",
   "metadata": {},
   "outputs": [],
   "source": [
    "mean_genres_ratings = {}\n",
    "for i in np.arange(len(genres_ratings)):\n",
    "    mean_genres_ratings[genres_ratings.keys()[i]] = round(np.mean(genres_ratings[i]),2)\n",
    "mean_genres_ratings_sorted = dict(sorted(mean_genres_ratings.items(), key=lambda item: item[1],reverse=True))"
   ]
  },
  {
   "cell_type": "code",
   "execution_count": 302,
   "id": "132559e0",
   "metadata": {},
   "outputs": [
    {
     "name": "stdout",
     "output_type": "stream",
     "text": [
      "[7.09, 6.93, 6.92, 6.84, 6.8, 6.73, 6.67, 6.64, 6.61, 6.5, 6.43, 6.38, 6.35, 6.35, 6.33, 6.33, 6.33, 6.31, 6.29, 6.28, 6.27, 6.19, 6.11, 6.08, 5.89, 5.83, 5.62, 5.45]\n",
      "['Documentary', 'Biography', 'History', 'Music', 'Film-Noir', 'Short', 'Animation', 'Sport', 'War', 'Drama', 'Family', 'Musical', 'Romance', 'Crime', 'News', 'Fantasy', 'Talk-Show', 'Mystery', 'Adventure', 'Comedy', 'Reality-TV', 'Game-Show', 'Western', 'Action', 'Sci-Fi', 'Thriller', 'Adult', 'Horror']\n"
     ]
    },
    {
     "name": "stderr",
     "output_type": "stream",
     "text": [
      "/var/folders/bk/y0g661w92fl2j_dxj20n5bch0000gn/T/ipykernel_9582/3822409924.py:3: DeprecationWarning: The default dtype for empty Series will be 'object' instead of 'float64' in a future version. Specify a dtype explicitly to silence this warning.\n",
      "  mean_genres_ratings_Series = pd.Series()\n"
     ]
    },
    {
     "data": {
      "text/plain": [
       "labels    [Documentary, Biography, History, Music, Film-...\n",
       "data      [7.09, 6.93, 6.92, 6.84, 6.8, 6.73, 6.67, 6.64...\n",
       "dtype: object"
      ]
     },
     "execution_count": 302,
     "metadata": {},
     "output_type": "execute_result"
    }
   ],
   "source": [
    "print(list(mean_genres_ratings_sorted.values()))\n",
    "print(list(mean_genres_ratings_sorted.keys()))\n",
    "mean_genres_ratings_Series = pd.Series()\n",
    "mean_genres_ratings_Series[\"labels\"] = list(mean_genres_ratings_sorted.keys())\n",
    "mean_genres_ratings_Series[\"data\"] = list(mean_genres_ratings_sorted.values())\n",
    "mean_genres_ratings_Series.to_csv(\"mean_genres_ratings_Series.csv\")\n",
    "mean_genres_ratings_Series"
   ]
  },
  {
   "cell_type": "code",
   "execution_count": 308,
   "id": "33b43f0e",
   "metadata": {},
   "outputs": [
    {
     "data": {
      "text/plain": [
       "['Documentary',\n",
       " 'Biography',\n",
       " 'History',\n",
       " 'Music',\n",
       " 'Film-Noir',\n",
       " 'Short',\n",
       " 'Animation',\n",
       " 'Sport',\n",
       " 'War',\n",
       " 'Drama',\n",
       " 'Family',\n",
       " 'Musical',\n",
       " 'Romance',\n",
       " 'Crime',\n",
       " 'News',\n",
       " 'Fantasy',\n",
       " 'Talk-Show',\n",
       " 'Mystery',\n",
       " 'Adventure',\n",
       " 'Comedy',\n",
       " 'Reality-TV',\n",
       " 'Game-Show',\n",
       " 'Western',\n",
       " 'Action',\n",
       " 'Sci-Fi',\n",
       " 'Thriller',\n",
       " 'Adult',\n",
       " 'Horror']"
      ]
     },
     "execution_count": 308,
     "metadata": {},
     "output_type": "execute_result"
    }
   ],
   "source": [
    "list(mean_genres_ratings_sorted.keys())"
   ]
  },
  {
   "cell_type": "code",
   "execution_count": 320,
   "id": "ef930753",
   "metadata": {
    "scrolled": false
   },
   "outputs": [
    {
     "ename": "TypeError",
     "evalue": "set_ticks() takes 2 positional arguments but 3 were given",
     "output_type": "error",
     "traceback": [
      "\u001b[0;31m---------------------------------------------------------------------------\u001b[0m",
      "\u001b[0;31mTypeError\u001b[0m                                 Traceback (most recent call last)",
      "\u001b[0;32m/var/folders/bk/y0g661w92fl2j_dxj20n5bch0000gn/T/ipykernel_9582/3678242081.py\u001b[0m in \u001b[0;36m<module>\u001b[0;34m\u001b[0m\n\u001b[1;32m      4\u001b[0m \u001b[0;34m\u001b[0m\u001b[0m\n\u001b[1;32m      5\u001b[0m \u001b[0max\u001b[0m\u001b[0;34m.\u001b[0m\u001b[0mbarh\u001b[0m\u001b[0;34m(\u001b[0m\u001b[0my_pos\u001b[0m\u001b[0;34m,\u001b[0m \u001b[0mdata\u001b[0m\u001b[0;34m,\u001b[0m \u001b[0malign\u001b[0m\u001b[0;34m=\u001b[0m\u001b[0;34m'center'\u001b[0m\u001b[0;34m)\u001b[0m\u001b[0;34m\u001b[0m\u001b[0;34m\u001b[0m\u001b[0m\n\u001b[0;32m----> 6\u001b[0;31m \u001b[0max\u001b[0m\u001b[0;34m.\u001b[0m\u001b[0mset_yticks\u001b[0m\u001b[0;34m(\u001b[0m\u001b[0my_pos\u001b[0m\u001b[0;34m,\u001b[0m \u001b[0mlabels\u001b[0m\u001b[0;34m)\u001b[0m\u001b[0;34m\u001b[0m\u001b[0;34m\u001b[0m\u001b[0m\n\u001b[0m\u001b[1;32m      7\u001b[0m \u001b[0max\u001b[0m\u001b[0;34m.\u001b[0m\u001b[0minvert_yaxis\u001b[0m\u001b[0;34m(\u001b[0m\u001b[0;34m)\u001b[0m  \u001b[0;31m# labels read top-to-bottom\u001b[0m\u001b[0;34m\u001b[0m\u001b[0;34m\u001b[0m\u001b[0m\n\u001b[1;32m      8\u001b[0m \u001b[0max\u001b[0m\u001b[0;34m.\u001b[0m\u001b[0mset_xlabel\u001b[0m\u001b[0;34m(\u001b[0m\u001b[0;34m'Average Rating'\u001b[0m\u001b[0;34m)\u001b[0m\u001b[0;34m\u001b[0m\u001b[0;34m\u001b[0m\u001b[0m\n",
      "\u001b[0;32m~/opt/anaconda3/lib/python3.9/site-packages/matplotlib/axes/_base.py\u001b[0m in \u001b[0;36mwrapper\u001b[0;34m(self, *args, **kwargs)\u001b[0m\n\u001b[1;32m     71\u001b[0m \u001b[0;34m\u001b[0m\u001b[0m\n\u001b[1;32m     72\u001b[0m         \u001b[0;32mdef\u001b[0m \u001b[0mwrapper\u001b[0m\u001b[0;34m(\u001b[0m\u001b[0mself\u001b[0m\u001b[0;34m,\u001b[0m \u001b[0;34m*\u001b[0m\u001b[0margs\u001b[0m\u001b[0;34m,\u001b[0m \u001b[0;34m**\u001b[0m\u001b[0mkwargs\u001b[0m\u001b[0;34m)\u001b[0m\u001b[0;34m:\u001b[0m\u001b[0;34m\u001b[0m\u001b[0;34m\u001b[0m\u001b[0m\n\u001b[0;32m---> 73\u001b[0;31m             \u001b[0;32mreturn\u001b[0m \u001b[0mget_method\u001b[0m\u001b[0;34m(\u001b[0m\u001b[0mself\u001b[0m\u001b[0;34m)\u001b[0m\u001b[0;34m(\u001b[0m\u001b[0;34m*\u001b[0m\u001b[0margs\u001b[0m\u001b[0;34m,\u001b[0m \u001b[0;34m**\u001b[0m\u001b[0mkwargs\u001b[0m\u001b[0;34m)\u001b[0m\u001b[0;34m\u001b[0m\u001b[0;34m\u001b[0m\u001b[0m\n\u001b[0m\u001b[1;32m     74\u001b[0m \u001b[0;34m\u001b[0m\u001b[0m\n\u001b[1;32m     75\u001b[0m         \u001b[0mwrapper\u001b[0m\u001b[0;34m.\u001b[0m\u001b[0m__module__\u001b[0m \u001b[0;34m=\u001b[0m \u001b[0mowner\u001b[0m\u001b[0;34m.\u001b[0m\u001b[0m__module__\u001b[0m\u001b[0;34m\u001b[0m\u001b[0;34m\u001b[0m\u001b[0m\n",
      "\u001b[0;31mTypeError\u001b[0m: set_ticks() takes 2 positional arguments but 3 were given"
     ]
    }
   ],
   "source": [
    "\n",
    "labels = list(mean_genres_ratings_sorted.keys())\n",
    "y_pos = np.arange(len(mean_genres_ratings_sorted))\n",
    "data = list(mean_genres_ratings_sorted.values())\n",
    "\n",
    "ax.barh(y_pos, data, align='center')\n",
    "ax.set_yticks(y_pos, labels)\n",
    "ax.invert_yaxis()  # labels read top-to-bottom\n",
    "ax.set_xlabel('Average Rating')\n",
    "ax.set_title('How fast do you want to go today?')\n",
    "\n",
    "plt.show()"
   ]
  },
  {
   "cell_type": "code",
   "execution_count": 317,
   "id": "1b05764c",
   "metadata": {},
   "outputs": [
    {
     "ename": "AttributeError",
     "evalue": "'list' object has no attribute 'values'",
     "output_type": "error",
     "traceback": [
      "\u001b[0;31m---------------------------------------------------------------------------\u001b[0m",
      "\u001b[0;31mAttributeError\u001b[0m                            Traceback (most recent call last)",
      "\u001b[0;32m/var/folders/bk/y0g661w92fl2j_dxj20n5bch0000gn/T/ipykernel_9582/3187657198.py\u001b[0m in \u001b[0;36m<module>\u001b[0;34m\u001b[0m\n\u001b[0;32m----> 1\u001b[0;31m \u001b[0mlabels\u001b[0m\u001b[0;34m.\u001b[0m\u001b[0mvalues\u001b[0m\u001b[0;34m(\u001b[0m\u001b[0;34m)\u001b[0m\u001b[0;34m\u001b[0m\u001b[0;34m\u001b[0m\u001b[0m\n\u001b[0m",
      "\u001b[0;31mAttributeError\u001b[0m: 'list' object has no attribute 'values'"
     ]
    }
   ],
   "source": []
  },
  {
   "cell_type": "raw",
   "id": "8f023d85",
   "metadata": {},
   "source": [
    "title2 = title.reset_index()\n",
    "genres_ratings = pd.Series(data = list)\n",
    "for i in np.arange(len(title2)):\n",
    "    film_genres = title2.loc[i].genres.split(\",\")\n",
    "    for item in film_genres:\n",
    "        if item in genres_ratings:\n",
    "            genre_rating = title2[\"averageRating\"][i]\n",
    "            genre_rating_list = []\n",
    "            genre_rating_list = genre_rating_list.append(genres_ratings[item])\n",
    "            genre_rating_list = genre_rating_list.append(title2[\"averageRating\"][i])\n",
    "            genres_ratings[item] = genre_rating_list\n",
    "            #genres_ratings[item] += title2[\"averageRating\"][i]\n",
    "        else:\n",
    "            genres_ratings[item] = list(title2[\"averageRating\"][i])\n",
    "\n",
    "genres_ratings"
   ]
  },
  {
   "cell_type": "raw",
   "id": "3c328010",
   "metadata": {},
   "source": [
    "title2 = title.reset_index()\n",
    "genres_ratings = {}\n",
    "tconst_list = []\n",
    "for i in np.arange(len(title2)):\n",
    "    if title2[\"tconst\"][i] not in tconst_list:\n",
    "        film_genres = title2.loc[i].genres.split(\",\")\n",
    "        for item in film_genres:\n",
    "            if item in genres_ratings:\n",
    "                #genre_rating_list = []\n",
    "                #genre_rating_list = genre_rating_list.append(genres_ratings[item])\n",
    "                #genre_rating_list = genre_rating_list.append(title2[\"averageRating\"][i])\n",
    "                genres_ratings[item] += title2[\"averageRating\"][i]\n",
    "            else:\n",
    "                genres_ratings[item] = title2[\"averageRating\"][i]\n",
    "        tconst_list = tconst_list.append(title2[\"tconst\"][i])\n",
    "    #film_genres = title2.loc[i].genres.split(\",\")\n",
    "    #for item in genres_ratings:\n",
    "        #if item in genres_ratings:\n",
    "            ##genre_rating_list = []\n",
    "            ##genre_rating_list = genre_rating_list.append(genres_ratings[item])\n",
    "            ##genre_rating_list = genre_rating_list.append(title2[\"averageRating\"][i])\n",
    "            #genres_ratings[item] += title2[\"averageRating\"][i]\n",
    "        #else:\n",
    "            #genres_ratings[item] = title2[\"averageRating\"][i]\n",
    "\n",
    "genres_ratings"
   ]
  }
 ],
 "metadata": {
  "kernelspec": {
   "display_name": "Python 3 (ipykernel)",
   "language": "python",
   "name": "python3"
  },
  "language_info": {
   "codemirror_mode": {
    "name": "ipython",
    "version": 3
   },
   "file_extension": ".py",
   "mimetype": "text/x-python",
   "name": "python",
   "nbconvert_exporter": "python",
   "pygments_lexer": "ipython3",
   "version": "3.9.7"
  }
 },
 "nbformat": 4,
 "nbformat_minor": 5
}
